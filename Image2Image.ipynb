{
 "cells": [
  {
   "cell_type": "markdown",
   "metadata": {},
   "source": [
    "# Image to Image Synthesis Using a Dreambooth-Trained Model \n",
    "\n",
    "The model was fine-tuned on my style"
   ]
  },
  {
   "cell_type": "markdown",
   "metadata": {},
   "source": [
    "## Setup AWS Dependencies"
   ]
  },
  {
   "cell_type": "code",
   "execution_count": null,
   "metadata": {},
   "outputs": [],
   "source": [
    "! apt update\n",
    "! apt-get install unzip\n",
    "# setup AWS CLI\n",
    "! curl \"https://awscli.amazonaws.com/awscli-exe-linux-x86_64.zip\" -o \"awscliv2.zip\"\n",
    "! unzip awscliv2.zip\n",
    "! ./aws/install"
   ]
  },
  {
   "cell_type": "code",
   "execution_count": 2,
   "metadata": {},
   "outputs": [],
   "source": [
    "# Run `aws configure`"
   ]
  },
  {
   "cell_type": "code",
   "execution_count": null,
   "metadata": {},
   "outputs": [],
   "source": [
    "# download model from S3\n",
    "! aws s3 cp s3://379552636459-stable-diffusion/experiment7-dreambooth ~/workspace/stable-diffusion/experiment7-dreambooth --recursive"
   ]
  },
  {
   "cell_type": "code",
   "execution_count": 3,
   "metadata": {},
   "outputs": [],
   "source": [
    "# download a sketch of a hyena, a fox, trash, and soup\n"
   ]
  },
  {
   "cell_type": "code",
   "execution_count": null,
   "metadata": {},
   "outputs": [],
   "source": [
    "prompts = ['a hyena', 'a fox', 'soup']\n",
    "\n",
    "for prompt in prompts: \n",
    "    # run img2img.py model\n",
    "    ! (python scripts/img2img.py \\\n",
    "        --prompt \"black and white icon of {prompt}\" \\\n",
    "        --init-img \"\" \\  # to change\n",
    "        --outdir \"out\" \\  # to change\n",
    "        --ddim_steps 50 \\\n",
    "        #--plms \\\n",
    "        --ddim_eta 0.1 \\\n",
    "        --n_iter 4 \\\n",
    "        --n_samples 5 \\\n",
    "        --n_rows 5 \\\n",
    "        --strength 0.75 \\\n",
    "        --config \"logs/config.json\" \\  # to change\n",
    "        --ckpt \"\" \\ # to change\n",
    "        --seed 42 \\\n",
    "        --precision \"autocast\"\n",
    "        \n",
    "\n",
    "        --model_path ./model \\\n",
    "        --image_path ./images \\\n",
    "        --output_path ./output \\\n",
    "        --num_samples 1 \\\n",
    "        --num_resolutions 1 \\\n",
    "        --image_size 256 \\\n",
    "        --batch_size 1 \\\n",
    "        --seed 0\n",
    "    )"
   ]
  },
  {
   "cell_type": "code",
   "execution_count": null,
   "metadata": {},
   "outputs": [],
   "source": [
    "# upload results to S3\n"
   ]
  }
 ],
 "metadata": {
  "kernelspec": {
   "display_name": "Python 3.10.8 ('venv': venv)",
   "language": "python",
   "name": "python3"
  },
  "language_info": {
   "codemirror_mode": {
    "name": "ipython",
    "version": 3
   },
   "file_extension": ".py",
   "mimetype": "text/x-python",
   "name": "python",
   "nbconvert_exporter": "python",
   "pygments_lexer": "ipython3",
   "version": "3.10.8"
  },
  "orig_nbformat": 4,
  "vscode": {
   "interpreter": {
    "hash": "716295529f79b9e647082995a1082ef6502d5c0b20a2de01ffac0332458989cf"
   }
  }
 },
 "nbformat": 4,
 "nbformat_minor": 2
}
